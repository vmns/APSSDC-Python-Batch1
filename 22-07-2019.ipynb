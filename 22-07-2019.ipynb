{
 "cells": [
  {
   "cell_type": "markdown",
   "metadata": {},
   "source": [
    "### Control Flow Statements\n",
    "- if\n",
    "- if else\n",
    "- if elif\n",
    "- for\n",
    "- while\n",
    "\n",
    "### List\n",
    "- creation of list\n",
    "- insertion into list -> insert()\n",
    "- removing elements\n",
    "    - remove()-specified item\n",
    "    - pop()\n",
    "    - del()\n",
    "- deletion\n",
    "    - del lstname\n",
    "    - clear()\n",
    "- append\n",
    "- Iterating a list\n",
    "- Check if Item Exists\n",
    "- List Length\n",
    "- Copy a List\n",
    "- list2 = list1, because: list2 will only be a reference to list1, and changes made in list1 will   automatically also be made in list2.\n",
    "\n",
    "- There are ways to make a copy, one way is to use the built-in List method copy().\n",
    "\n",
    "- Make a copy of a list with the copy() method:\n",
    "\n",
    "- thislist = [\"apple\", \"banana\", \"cherry\"]\n",
    "  mylist = thislist.copy()\n",
    "  print(mylist)\n",
    "- The list() Constructor\n",
    "- list Methods\n",
    "    - count()\n",
    "        - value\tRequired. Any type (string, number, list, tuple, etc.). The value to search for.\n",
    "    - reverse() -> reverse the sorting order\n",
    "    - sort() -> asce\n",
    "    - extend() u can add some other data\n",
    "\n",
    "- list.sort(reverse=True|False, key=myFunc)\n",
    "- Parameter Values\n",
    "- Parameter\tDescription\n",
    "- reverse\tOptional. reverse=True will sort the list descending. Default is reverse=False\n",
    "- key\tOptional. A function to specify the sorting criteria(s)    \n",
    "\n",
    "### sorting based on key function\n",
    "    - # A function that returns the length of the value:\n",
    "def myFunc(e):\n",
    "  return len(e)\n",
    "\n",
    "cars = ['Ford', 'Mitsubishi', 'BMW', 'VW']\n",
    "\n",
    "cars.sort(key=myFunc)\n",
    "\n",
    "print(cars)\n"
   ]
  },
  {
   "cell_type": "code",
   "execution_count": 2,
   "metadata": {},
   "outputs": [
    {
     "name": "stdout",
     "output_type": "stream",
     "text": [
      "a is less than 10\n"
     ]
    }
   ],
   "source": [
    "a = 2\n",
    "if a>10:\n",
    "    print('a is greater than 10')\n",
    "    \n",
    "else:\n",
    "    print('a is less than 10')"
   ]
  },
  {
   "cell_type": "code",
   "execution_count": 3,
   "metadata": {},
   "outputs": [
    {
     "data": {
      "text/plain": [
       "3"
      ]
     },
     "execution_count": 3,
     "metadata": {},
     "output_type": "execute_result"
    }
   ],
   "source": [
    "a = 2\n",
    "a = a+True\n",
    "a = a + False\n",
    "a"
   ]
  },
  {
   "cell_type": "markdown",
   "metadata": {},
   "source": [
    "# \n",
    "a  b    and  or   not(a)  not(b)\n",
    "0  0     0    0    1       1\n",
    "0  1     0    1    1       0\n",
    "1  0     0    1    0       1\n",
    "1  1     1    1    0       0"
   ]
  },
  {
   "cell_type": "code",
   "execution_count": null,
   "metadata": {},
   "outputs": [],
   "source": [
    "# find the largest value in 3 numbers\n",
    "a = 982\n",
    "b = 234\n",
    "c = 983\n",
    "if a>b and a>c:\n",
    "    print('a is greater')\n",
    "elif b>a and b>c:\n",
    "    print('b is greater')\n",
    "else:\n",
    "    print('c is greater')"
   ]
  },
  {
   "cell_type": "code",
   "execution_count": 8,
   "metadata": {},
   "outputs": [
    {
     "name": "stdout",
     "output_type": "stream",
     "text": [
      "0,1,2,3,4,5,6,7,8,9,10,11,12,13,14,15,16,17,18,19,20,21,22,23,24,25,26,27,28,29,30,31,32,33,34,35,36,37,38,39,40,41,42,43,44,45,46,47,48,49,50,51,52,53,54,55,56,57,58,59,60,61,62,63,64,65,66,67,68,69,70,71,72,73,74,75,76,77,78,79,80,81,82,83,84,85,86,87,88,89,90,91,92,93,94,95,96,97,98,99,100,"
     ]
    }
   ],
   "source": [
    "# print 100 numbers\n",
    "for i in range(0,101):\n",
    "    print(i,end=\",\")"
   ]
  },
  {
   "cell_type": "code",
   "execution_count": 15,
   "metadata": {},
   "outputs": [
    {
     "data": {
      "text/plain": [
       "\"a = 0\\nwhile a<=100:\\n    print(a,end='\\n')\\n    a+=1\""
      ]
     },
     "execution_count": 15,
     "metadata": {},
     "output_type": "execute_result"
    }
   ],
   "source": [
    "\"\"\"a = 0\n",
    "while a<=100:\n",
    "    print(a,end='\\n')\n",
    "    a+=1\"\"\""
   ]
  },
  {
   "cell_type": "code",
   "execution_count": 7,
   "metadata": {},
   "outputs": [
    {
     "data": {
      "text/plain": [
       "([100, 0, 1, 2, 3, 4, 5, 6, 7, 8, 9, 123],\n",
       " [100, 0, 1, 2, 3, 4, 5, 6, 7, 8, 9, 123])"
      ]
     },
     "execution_count": 7,
     "metadata": {},
     "output_type": "execute_result"
    }
   ],
   "source": [
    "\"\"\"creation of list\n",
    "insertion into list -> insert()\n",
    "removing elements\n",
    "remove()-specified item\n",
    "pop()\n",
    "del()\n",
    "deletion\n",
    "del lstname\n",
    "clear()\"\"\"\n",
    "l = []\n",
    "\"\"\"for i in range(0,10):\n",
    "    l.append(i)\n",
    "    #print(l)\n",
    "l.insert(0,100)\"\"\"\n",
    "# l # [100, 0, 1, 2, 3, 4, 5, 6, 7, 8, 9]\n",
    "# l.remove(0) # [0, 1, 2, 3, 4, 5, 6, 7, 8, 9]\n",
    "#l\n",
    "#l.remove(100) # [0, 1, 2, 3, 4, 5, 6, 7, 8, 9]\n",
    "# l.pop() # 9\n",
    "# l\n",
    "# del l[5]\n",
    "# l # [100, 0, 1, 2, 3, 5, 6, 7, 8, 9]\n",
    "l = [100, 0, 1, 2, 3, 4, 5, 6, 7, 8, 9]\n",
    "#del l\n",
    "\"\"\"l\n",
    "l.clear()\n",
    "l\"\"\"\n",
    "l2 = [0,9,8,7,6,5,4,3,2,1]\n",
    "l1 = l\n",
    "l1,l\n",
    "l.append(123)\n",
    "l1,l\n"
   ]
  },
  {
   "cell_type": "code",
   "execution_count": 4,
   "metadata": {},
   "outputs": [
    {
     "name": "stdout",
     "output_type": "stream",
     "text": [
      "1\n",
      "2\n",
      "3\n",
      "4\n",
      "5\n",
      "6\n"
     ]
    }
   ],
   "source": [
    "l = []\n",
    "l = [1,2,3,4,5,6]\n",
    "# print(l)\n",
    "for asd in l:\n",
    "    print(asd)\n",
    "    \"\"\"l1,l\n",
    "l1.append(9875665)\n",
    "l1,l\n",
    "l2 = l.copy()\n",
    "l2,l\n",
    "l.append(76543)\n",
    "l2,l\"\"\""
   ]
  },
  {
   "cell_type": "code",
   "execution_count": null,
   "metadata": {},
   "outputs": [],
   "source": [
    "for variable in range(startindex,endindex):\n",
    "    print(statement)"
   ]
  },
  {
   "cell_type": "code",
   "execution_count": 4,
   "metadata": {},
   "outputs": [
    {
     "ename": "TypeError",
     "evalue": "unsupported operand type(s) for +: 'int' and 'NoneType'",
     "output_type": "error",
     "traceback": [
      "\u001b[1;31m---------------------------------------------------------------------------\u001b[0m",
      "\u001b[1;31mTypeError\u001b[0m                                 Traceback (most recent call last)",
      "\u001b[1;32m<ipython-input-4-39e11c5fd4ab>\u001b[0m in \u001b[0;36m<module>\u001b[1;34m()\u001b[0m\n\u001b[0;32m      7\u001b[0m     \u001b[1;32mreturn\u001b[0m \u001b[0ma\u001b[0m\u001b[1;33m\u001b[0m\u001b[0m\n\u001b[0;32m      8\u001b[0m \u001b[1;33m\u001b[0m\u001b[0m\n\u001b[1;32m----> 9\u001b[1;33m \u001b[0mprint\u001b[0m\u001b[1;33m(\u001b[0m\u001b[0madd\u001b[0m\u001b[1;33m(\u001b[0m\u001b[1;33m)\u001b[0m\u001b[1;33m)\u001b[0m\u001b[1;33m\u001b[0m\u001b[0m\n\u001b[0m",
      "\u001b[1;32m<ipython-input-4-39e11c5fd4ab>\u001b[0m in \u001b[0;36madd\u001b[1;34m()\u001b[0m\n\u001b[0;32m      4\u001b[0m \u001b[1;33m\u001b[0m\u001b[0m\n\u001b[0;32m      5\u001b[0m \u001b[1;32mdef\u001b[0m \u001b[0madd\u001b[0m\u001b[1;33m(\u001b[0m\u001b[1;33m)\u001b[0m\u001b[1;33m:\u001b[0m\u001b[1;33m\u001b[0m\u001b[0m\n\u001b[1;32m----> 6\u001b[1;33m     \u001b[0ma\u001b[0m \u001b[1;33m=\u001b[0m \u001b[1;36m12\u001b[0m\u001b[1;33m+\u001b[0m\u001b[0msub\u001b[0m\u001b[1;33m(\u001b[0m\u001b[1;33m)\u001b[0m\u001b[1;33m\u001b[0m\u001b[0m\n\u001b[0m\u001b[0;32m      7\u001b[0m     \u001b[1;32mreturn\u001b[0m \u001b[0ma\u001b[0m\u001b[1;33m\u001b[0m\u001b[0m\n\u001b[0;32m      8\u001b[0m \u001b[1;33m\u001b[0m\u001b[0m\n",
      "\u001b[1;31mTypeError\u001b[0m: unsupported operand type(s) for +: 'int' and 'NoneType'"
     ]
    }
   ],
   "source": [
    "def sub():\n",
    "    c = 34-12\n",
    "    #print(c)\n",
    "\n",
    "def add():\n",
    "    a = 12+sub()\n",
    "    return a\n",
    "\n",
    "print(add())"
   ]
  },
  {
   "cell_type": "code",
   "execution_count": null,
   "metadata": {},
   "outputs": [],
   "source": [
    "a = b\n",
    "mov a,b"
   ]
  },
  {
   "cell_type": "code",
   "execution_count": 6,
   "metadata": {},
   "outputs": [
    {
     "ename": "SyntaxError",
     "evalue": "invalid syntax (<ipython-input-6-fe5c84e1d058>, line 2)",
     "output_type": "error",
     "traceback": [
      "\u001b[1;36m  File \u001b[1;32m\"<ipython-input-6-fe5c84e1d058>\"\u001b[1;36m, line \u001b[1;32m2\u001b[0m\n\u001b[1;33m    if len==12\u001b[0m\n\u001b[1;37m              ^\u001b[0m\n\u001b[1;31mSyntaxError\u001b[0m\u001b[1;31m:\u001b[0m invalid syntax\n"
     ]
    }
   ],
   "source": [
    "if int(1):\n",
    "    if len==12\n",
    "        print(ok)"
   ]
  },
  {
   "cell_type": "code",
   "execution_count": 22,
   "metadata": {},
   "outputs": [
    {
     "data": {
      "text/plain": [
       "1"
      ]
     },
     "execution_count": 22,
     "metadata": {},
     "output_type": "execute_result"
    }
   ],
   "source": [
    "a = [1,2,3,4,5,6,7,8,9,76543,23456,78987654,3223].count(2)\n",
    "a"
   ]
  },
  {
   "cell_type": "code",
   "execution_count": 20,
   "metadata": {},
   "outputs": [
    {
     "data": {
      "text/plain": [
       "[]"
      ]
     },
     "execution_count": 20,
     "metadata": {},
     "output_type": "execute_result"
    }
   ],
   "source": [
    "a[1] # 2\n",
    "a[1:] # a[startindex:stopindex(upto end of the list)] # [2, 3, 4, 5, 6, 7, 8, 9, 76543, 23456, 78987654, 3223]\n",
    "a[11:]\n",
    "a[12-3:] # [76543, 23456, 78987654, 3223]\n",
    "a[:1234] # [1, 2, 3, 4, 5, 6, 7, 8, 9, 76543, 23456, 78987654, 3223]\n",
    "a[:0] # []\n",
    "a[0:0] # []\n",
    "a[1:1] # []\n",
    "a[1:1:1]"
   ]
  },
  {
   "cell_type": "code",
   "execution_count": null,
   "metadata": {},
   "outputs": [],
   "source": []
  },
  {
   "cell_type": "code",
   "execution_count": null,
   "metadata": {},
   "outputs": [],
   "source": []
  },
  {
   "cell_type": "code",
   "execution_count": null,
   "metadata": {},
   "outputs": [],
   "source": []
  },
  {
   "cell_type": "code",
   "execution_count": null,
   "metadata": {},
   "outputs": [],
   "source": []
  },
  {
   "cell_type": "code",
   "execution_count": null,
   "metadata": {},
   "outputs": [],
   "source": []
  },
  {
   "cell_type": "code",
   "execution_count": null,
   "metadata": {},
   "outputs": [],
   "source": []
  },
  {
   "cell_type": "code",
   "execution_count": null,
   "metadata": {},
   "outputs": [],
   "source": []
  },
  {
   "cell_type": "code",
   "execution_count": null,
   "metadata": {},
   "outputs": [],
   "source": []
  },
  {
   "cell_type": "code",
   "execution_count": null,
   "metadata": {},
   "outputs": [],
   "source": []
  },
  {
   "cell_type": "code",
   "execution_count": null,
   "metadata": {},
   "outputs": [],
   "source": []
  },
  {
   "cell_type": "code",
   "execution_count": null,
   "metadata": {},
   "outputs": [],
   "source": []
  },
  {
   "cell_type": "code",
   "execution_count": null,
   "metadata": {},
   "outputs": [],
   "source": []
  },
  {
   "cell_type": "code",
   "execution_count": null,
   "metadata": {},
   "outputs": [],
   "source": []
  },
  {
   "cell_type": "code",
   "execution_count": null,
   "metadata": {},
   "outputs": [],
   "source": []
  },
  {
   "cell_type": "code",
   "execution_count": null,
   "metadata": {},
   "outputs": [],
   "source": []
  },
  {
   "cell_type": "code",
   "execution_count": null,
   "metadata": {},
   "outputs": [],
   "source": []
  },
  {
   "cell_type": "code",
   "execution_count": null,
   "metadata": {},
   "outputs": [],
   "source": []
  },
  {
   "cell_type": "code",
   "execution_count": null,
   "metadata": {},
   "outputs": [],
   "source": []
  },
  {
   "cell_type": "code",
   "execution_count": null,
   "metadata": {},
   "outputs": [],
   "source": []
  }
 ],
 "metadata": {
  "kernelspec": {
   "display_name": "Python 3",
   "language": "python",
   "name": "python3"
  },
  "language_info": {
   "codemirror_mode": {
    "name": "ipython",
    "version": 3
   },
   "file_extension": ".py",
   "mimetype": "text/x-python",
   "name": "python",
   "nbconvert_exporter": "python",
   "pygments_lexer": "ipython3",
   "version": "3.6.5"
  }
 },
 "nbformat": 4,
 "nbformat_minor": 2
}
