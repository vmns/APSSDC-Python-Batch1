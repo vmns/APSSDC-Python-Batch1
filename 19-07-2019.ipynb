{
 "cells": [
  {
   "cell_type": "markdown",
   "metadata": {},
   "source": [
    "## problem set\n",
    "\n",
    "- Program to add two numbers\n",
    "- Check wether a number is prime or not\n",
    "- Program to find factorial of a given number\n",
    "- Write a progra to make simple a calculator\n",
    "- Check if a given number is positive or negative or zero\n",
    "- Program to find the square root of a given number\n",
    "- Leap year"
   ]
  },
  {
   "cell_type": "code",
   "execution_count": 31,
   "metadata": {},
   "outputs": [
    {
     "ename": "SyntaxError",
     "evalue": "can't assign to function call (<ipython-input-31-ad09193c8937>, line 17)",
     "output_type": "error",
     "traceback": [
      "\u001b[1;36m  File \u001b[1;32m\"<ipython-input-31-ad09193c8937>\"\u001b[1;36m, line \u001b[1;32m17\u001b[0m\n\u001b[1;33m    int(a) = input()\u001b[0m\n\u001b[1;37m                    ^\u001b[0m\n\u001b[1;31mSyntaxError\u001b[0m\u001b[1;31m:\u001b[0m can't assign to function call\n"
     ]
    }
   ],
   "source": [
    "# Program to add two numbers\n",
    "\"\"\"1.Read two parameters\n",
    "2.perform addition using + operator\n",
    "3.print result\"\"\"\n",
    "\n",
    "\"\"\"a = 10\n",
    "b = 20\n",
    "c = a+b\n",
    "print(c)\n",
    "------\n",
    "a = 10\n",
    "b = 20\n",
    "print(a+b)\n",
    "----------\n",
    "print(10+20)\n",
    "-----------\"\"\"\n",
    "a = input()\n",
    "b = input()\n",
    "c = a+b\n",
    "print(c)"
   ]
  },
  {
   "cell_type": "code",
   "execution_count": 32,
   "metadata": {},
   "outputs": [
    {
     "name": "stdout",
     "output_type": "stream",
     "text": [
      "30\n"
     ]
    }
   ],
   "source": [
    "def addition(a,b):\n",
    "    a = 10\n",
    "    b = 20\n",
    "    c = a+b\n",
    "    print(c)\n",
    "    \n",
    "addition(10,30)"
   ]
  },
  {
   "cell_type": "code",
   "execution_count": 34,
   "metadata": {},
   "outputs": [
    {
     "name": "stdout",
     "output_type": "stream",
     "text": [
      "10 is a prime number\n"
     ]
    }
   ],
   "source": [
    "# Check wether a number is prime or not\n",
    "def isPrime(n):\n",
    "    for i in range(2,n):\n",
    "        if n%i == 0:\n",
    "            print(n,'is a prime number')\n",
    "            break\n",
    "        else:\n",
    "            print(n,'is not a prime number')\n",
    "            \n",
    "\n",
    "isPrime(10)"
   ]
  },
  {
   "cell_type": "code",
   "execution_count": null,
   "metadata": {},
   "outputs": [],
   "source": [
    "*******\n",
    "******\n",
    "****\n",
    "***\n",
    "**\n",
    "*"
   ]
  },
  {
   "cell_type": "code",
   "execution_count": 10,
   "metadata": {
    "scrolled": true
   },
   "outputs": [
    {
     "name": "stdout",
     "output_type": "stream",
     "text": [
      "* * * * * * * * * * "
     ]
    }
   ],
   "source": [
    "for k in range(0,5):\n",
    "    for j in (0,8):\n",
    "        print('*',end=\" \")\n",
    "    print('*' '#')"
   ]
  },
  {
   "cell_type": "code",
   "execution_count": 32,
   "metadata": {},
   "outputs": [
    {
     "name": "stdout",
     "output_type": "stream",
     "text": [
      "5 4 3 2 1 \n",
      "5 4 3 2 1 \n",
      "5 4 3 2 1 \n",
      "5 4 3 2 1 \n",
      "5 4 3 2 1 \n"
     ]
    }
   ],
   "source": [
    "for i in range(0,5):\n",
    "    #print()\n",
    "    for j in range(5,0,-1):\n",
    "        print(j,end=\" \")\n",
    "    print()"
   ]
  },
  {
   "cell_type": "code",
   "execution_count": 58,
   "metadata": {},
   "outputs": [
    {
     "name": "stdout",
     "output_type": "stream",
     "text": [
      "5\n",
      "4\n",
      "3\n",
      "2\n",
      "1\n",
      "120\n"
     ]
    }
   ],
   "source": [
    "# Factorial\n",
    "# input 5\n",
    "# output   --> 120\n",
    "# process 5*4*3*2*1\n",
    "def factorial():\n",
    "    s = 1\n",
    "    for i in range(5,0,-1):\n",
    "        print(i)\n",
    "        s = s * i\n",
    "    print(s)\n",
    "\n",
    "factorial()\n"
   ]
  },
  {
   "cell_type": "code",
   "execution_count": null,
   "metadata": {},
   "outputs": [],
   "source": []
  },
  {
   "cell_type": "code",
   "execution_count": 4,
   "metadata": {},
   "outputs": [
    {
     "data": {
      "text/plain": [
       "'he'"
      ]
     },
     "execution_count": 4,
     "metadata": {},
     "output_type": "execute_result"
    }
   ],
   "source": [
    "a='hello'\n",
    "a[:2]"
   ]
  },
  {
   "cell_type": "code",
   "execution_count": 11,
   "metadata": {},
   "outputs": [
    {
     "name": "stdout",
     "output_type": "stream",
     "text": [
      "\\n hello\n"
     ]
    }
   ],
   "source": [
    "a = \"we are learning python\"\n",
    "# a.find('learning')   #7\n",
    "# a.search(\"learning\")\n",
    "'wee' not in a\n",
    "'abcd'[2:]\n",
    "print(r'\\n hello')"
   ]
  },
  {
   "cell_type": "code",
   "execution_count": 26,
   "metadata": {},
   "outputs": [
    {
     "name": "stdout",
     "output_type": "stream",
     "text": [
      "haisekhar\n",
      "3\n"
     ]
    }
   ],
   "source": [
    "print('hai'    'sekhar')\n",
    "k = complex(2,3)\n",
    "k = 2+3J\n",
    "print( 10//3)\n",
    "\n"
   ]
  },
  {
   "cell_type": "code",
   "execution_count": null,
   "metadata": {},
   "outputs": [],
   "source": []
  },
  {
   "cell_type": "code",
   "execution_count": null,
   "metadata": {},
   "outputs": [],
   "source": []
  },
  {
   "cell_type": "code",
   "execution_count": null,
   "metadata": {},
   "outputs": [],
   "source": []
  },
  {
   "cell_type": "code",
   "execution_count": null,
   "metadata": {},
   "outputs": [],
   "source": []
  },
  {
   "cell_type": "code",
   "execution_count": null,
   "metadata": {},
   "outputs": [],
   "source": []
  },
  {
   "cell_type": "code",
   "execution_count": null,
   "metadata": {},
   "outputs": [],
   "source": []
  }
 ],
 "metadata": {
  "kernelspec": {
   "display_name": "Python 3",
   "language": "python",
   "name": "python3"
  },
  "language_info": {
   "codemirror_mode": {
    "name": "ipython",
    "version": 3
   },
   "file_extension": ".py",
   "mimetype": "text/x-python",
   "name": "python",
   "nbconvert_exporter": "python",
   "pygments_lexer": "ipython3",
   "version": "3.6.5"
  }
 },
 "nbformat": 4,
 "nbformat_minor": 2
}
