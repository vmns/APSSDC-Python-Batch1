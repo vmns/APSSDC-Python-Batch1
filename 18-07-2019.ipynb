{
 "cells": [
  {
   "cell_type": "markdown",
   "metadata": {},
   "source": [
    "## Python Benefits                                                     \n",
    "\n",
    "\n",
    "\n",
    "- Python is open source\n",
    "- Syntax of python is easy to learn and also has high readability.\n",
    "- Python has extensive support libraries.\n",
    "- Python is very user friendly and has very rich built-in data structures which are easy to use. - - Also Python provides the option of dynamic high-level data typing which reduces the length of  support code that is needed.\n",
    "- The object oriented design of Python is clean which provides enhanced process control.\n",
    "\n",
    "## Application of Python\n",
    "\n",
    "- few companies and institutions who use Python as their one of the main programming\n",
    "  language: Google, NASA, CERN, WIKIPEDIA\n",
    "- Social news networking site “Reddit” is entirely written in Python.\n",
    "- Python scripts serve as scripting language for web applications.So if you want a web server  gateway interface you can use Python\n",
    "- You may hear about some famous web framework like Django, Pylons, Pyramid, TurboGears, Flask etc.   All are based on Python.\n",
    "- NumPy, SciPy and Matplotlib ( Modules of Python) are used in Scientific computing.\n",
    "- SageMath is a mathematical software programmable in Python.\n",
    "- Python has been embedded in many software products as a scripting language like- Abaqus, FreeCAD, Cinema4D,\n",
    "- MotionBuilder, Softimage, GIMP and so many others.\n",
    "- Python has been used in algorithmic trading and Artificial Intelligence.\n",
    "\n",
    "\n",
    "## Why Python\n",
    "\n",
    "- Python programming is very simple, elegant, and English like. So it’s very easy to learn and a good programming language to start your IT career.\n",
    "- Python is open source and you are free to extend it and make something beautiful out of it.\n",
    "- Python has vast community support. There are over a million questions on StackOverflow in Python category.\n",
    "- There are tons of free modules and packages to help you in every area of development.\n",
    "- Most of the Machine Learning, Data Science, Graphs, Artificial Intelligence APIs are built on top of Python. So if you want to work in the area of cutting-edge technologies then it’s a great choice for you.\n",
    "- Python is used by almost every major company in the world. So the chances of getting a job are much better if you know Python programming. If you are applying for any Python job, please go through Python Interview Questions.\n",
    "- There are no limitations to Python programming, you can use it in IoT, web applications, game development, cryptography, blockchain, scientific calculations, graphs and many other areas."
   ]
  },
  {
   "cell_type": "code",
   "execution_count": 8,
   "metadata": {},
   "outputs": [
    {
     "name": "stdout",
     "output_type": "stream",
     "text": [
      "\n",
      "given number is even number\n",
      "\n",
      "given number is even number\n",
      "\n",
      "given number is even number\n",
      "\n",
      "given number is even number\n",
      "\n",
      "given number is even number\n",
      "\n",
      "given number is even number\n",
      "\n",
      "given number is even number\n",
      "\n",
      "given number is even number\n",
      "\n",
      "given number is even number\n",
      "\n",
      "given number is even number\n",
      "23\n"
     ]
    }
   ],
   "source": [
    "# program to find a given number is even or not?\n",
    "def evenOrNot(num):\n",
    "    for i in range(0,10):\n",
    "        print()\n",
    "        if num % 2 == 0:\n",
    "            a = 23\n",
    "            print(\"given number is even number\")\n",
    "    print(a)\n",
    "\n",
    "evenOrNot(2)\n",
    "\n"
   ]
  },
  {
   "cell_type": "code",
   "execution_count": null,
   "metadata": {},
   "outputs": [],
   "source": []
  },
  {
   "cell_type": "code",
   "execution_count": null,
   "metadata": {},
   "outputs": [],
   "source": []
  },
  {
   "cell_type": "code",
   "execution_count": null,
   "metadata": {},
   "outputs": [],
   "source": []
  },
  {
   "cell_type": "code",
   "execution_count": null,
   "metadata": {},
   "outputs": [],
   "source": []
  },
  {
   "cell_type": "code",
   "execution_count": null,
   "metadata": {},
   "outputs": [],
   "source": []
  },
  {
   "cell_type": "code",
   "execution_count": null,
   "metadata": {},
   "outputs": [],
   "source": []
  },
  {
   "cell_type": "code",
   "execution_count": null,
   "metadata": {},
   "outputs": [],
   "source": []
  }
 ],
 "metadata": {
  "kernelspec": {
   "display_name": "Python 3",
   "language": "python",
   "name": "python3"
  },
  "language_info": {
   "codemirror_mode": {
    "name": "ipython",
    "version": 3
   },
   "file_extension": ".py",
   "mimetype": "text/x-python",
   "name": "python",
   "nbconvert_exporter": "python",
   "pygments_lexer": "ipython3",
   "version": "3.6.5"
  }
 },
 "nbformat": 4,
 "nbformat_minor": 2
}
